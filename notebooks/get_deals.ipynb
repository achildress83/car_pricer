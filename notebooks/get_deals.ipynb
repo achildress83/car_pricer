{
 "cells": [
  {
   "cell_type": "code",
   "execution_count": null,
   "metadata": {},
   "outputs": [],
   "source": [
    "import sys\n",
    "import os\n",
    "\n",
    "# Get parent directory\n",
    "parent_dir = os.path.abspath(os.path.join(os.getcwd(), \"..\"))\n",
    "\n",
    "# Add parent directory to sys.path\n",
    "sys.path.append(parent_dir)"
   ]
  },
  {
   "cell_type": "code",
   "execution_count": 1,
   "metadata": {},
   "outputs": [],
   "source": [
    "from pydantic import BaseModel\n",
    "from typing import List, Dict, Tuple, Self, Optional\n",
    "from bs4 import BeautifulSoup\n",
    "import re\n",
    "import feedparser\n",
    "from tqdm import tqdm\n",
    "import requests\n",
    "import time\n",
    "from deals import ScrapedDeal\n",
    "\n",
    "# automatically reload changed modules\n",
    "%load_ext autoreload\n",
    "%autoreload 2"
   ]
  },
  {
   "cell_type": "markdown",
   "metadata": {},
   "source": [
    "## Testing RSS feed"
   ]
  },
  {
   "cell_type": "code",
   "execution_count": 5,
   "metadata": {},
   "outputs": [
    {
     "name": "stdout",
     "output_type": "stream",
     "text": [
      "Feed Title: American Dream Machines RSS 2.0 Feed\n"
     ]
    }
   ],
   "source": [
    "# feeds = []\n",
    "\n",
    "# RSS feed URL\n",
    "rss_url = \"https://www.admcars.com/rssfeed.php\"\n",
    "\n",
    "# Parse the feed\n",
    "feed = feedparser.parse(rss_url)\n",
    "\n",
    "# Print feed title\n",
    "print(\"Feed Title:\", feed.feed.title)"
   ]
  },
  {
   "cell_type": "code",
   "execution_count": 6,
   "metadata": {},
   "outputs": [
    {
     "name": "stdout",
     "output_type": "stream",
     "text": [
      "dict_keys(['title', 'title_detail', 'summary', 'summary_detail', 'links', 'link', 'id', 'guidislink', 'published', 'published_parsed'])\n",
      "1958 Buick Century Extensive Restore, 364 Auto PS PT\n",
      "1958 Buick Century Extensive Restore, 364 Auto PS PT<br />\n",
      "\t\t\tStock # 5082, Mileage: 0, VIN # 6E2002708<br />\n",
      "\t\t\tPrice: $94,900<br />\n",
      "\t\t\tExterior Color: Black, Interior Color: Red<br />\n",
      "\t\t\t<h3><strong>Elegant Black 1958 Buick Century convertible with extravagant show chrome and shimmering diamond grill. &nbsp;This impressive piece of automotive art was owned by one family for over 50 years and handed down from father to son and has undergone an extensive restoration with attention to detail, with massive show chrome all the way around. One of only 2588 built in 1958 and is showing only 59 miles since completion. The new luxurious red interior was restored to a very impressive level with new carpet, seat cover, door panels and trim and shows like new. The interior is optioned with power windows and power seats. &nbsp;The dash was also restore to a high level, repainted with a new dash pad and refurbished instrument cluster showing just 59 miles. &nbsp;Under the hood is factory correct and just as impressive showcasing its 364 cubic inch Fireball nailhead designed engine, boasting 300 horsepower and 400 foot pounds of torque with 10-1 compression, topped off with a Quadrajet 4-barrel carburetor and launched by the Flight-Pitch Dyna-Flow automation transmission, nicely optioned with power steering and Hydraulic brakes. &nbsp;The beautiful Buick American Dream Machine has major curb appeal with correct full size wheel covers, wide white walls and is topped off with a newer matching white power top.&nbsp;</strong></h3><p><br /><strong>EXTERIOR:</strong></p><ul>\t<li>An extensive restoration was preformed on this black Buick Century Convertible &nbsp;</li>\t<li>Professionally painted in Black with white convertible top</li>\t<li>Restored Fashionaire Dynastar diamond grille</li>\t<li>Re-chromed front and rear bumpers and tail trim&nbsp;</li>\t<li>Jeweled in beautiful chrome and stainless all the way around</li>\t<li>New Century side trim&nbsp;</li>\t<li>Newer white power top</li>\t<li>Full size wheel covers</li>\t<li>Wide whitewall tires</li></ul><p><strong>INTERIOR:</strong></p><ul>\t<li>Opulent restored red interior</li>\t<li>Impeccable restored dash with new dash pad</li>\t<li>Refurbished instrument cluster with odometer showing just 59 miles&nbsp;</li>\t<li>Power windows and power seats&nbsp;</li>\t<li>New seat covers, door panels and carpet&nbsp;</li>\t<li>Restored steering wheel and new chrome horn ring and horn&nbsp;</li>\t<li>In dash clock&nbsp;</li>\t<li>Pushbutton Sonomatic radio</li></ul><p><strong>MECHANICS:</strong></p><ul>\t<li>Show quality and factory correct engine compartment&nbsp;</li>\t<li>364 cubic inch Fireball Nailhead V8 engine</li>\t<li>Flight Pitch Dynaflow automatic transmission</li>\t<li>Power steering</li>\t<li>Hydraulic brakes with aluminum drums on the front&nbsp;</li></ul><p><strong>UNDERCARRIAGE:</strong></p><ul>\t<li>Structurally beautiful metal structure&nbsp;</li>\t<li>Very solid original floors and frame&nbsp;</li>\t<li>Ball joint front suspension with coil springs</li></ul><br /><span style=\"line-height: 20.7999992370605px;\"><strong>American Dream Machines</strong><br />At American Dream Machines, we typically have over 100 quality classic cars and trucks in stock and for sale. We have everything from Corvettes to Cadillacs, Camaros, Mustangs, Mopars, GTOs, Chevelles, Bel Airs, Blazers and exotic sports cars. Our classics and muscle cars range from the 1950s to the 1970s. Our inventory is diverse and continuously changing and always growing! </span> <span style=\"line-height: 20.7999992370605px;\"> Our #1 Goal is to make you, our customer happy with the American classic and muscle cars we offer. We highly recommend that ALL CUSTOMERS call our knowledgeable, experienced staff and with Midwest values and have very detailed discussions regarding overall condition of any of our classics that you are considering getting in the drivers seat of. Our phone number is (515)-245-9100 and we are centrally located in the heartland of America, in Des Moines Iowa. </span> <span style=\"line-height: 20.7999992370605px;\"> American Dream Machines occupies the historic 41,000 square foot Packard Dealership. We are one of the largest full service classic car dealerships in the Midwest. We have over 10 active Mechanic hoists, a body shop and detail bays that are used by our technicians to inspect, repair, upgrade and detail our cars so that they are ready to be delivered to your driveway. Please give us a call and we will be happy to help get your dream car to almost any location worldwide! </span> <span style=\"line-height: 20.7999992370605px;\"> ALL OF OUR PICTURES AND VIDEOS ARE REAL, ALL THE WAY AROUND! We photograph our cars in our professional photo studio for the best possible image accuracy and representation of the cars. We do this because of our commitment to the authenticity and quality of the cars that we sell and the commitment to our customers. </span><br />&nbsp;<br />&nbsp;\n",
      "http://www.admcars.com/1958-buick-century-extensive-restore,-364-auto-ps-pt-c-1607.htm\n",
      "<class 'feedparser.util.FeedParserDict'>\n"
     ]
    }
   ],
   "source": [
    "print(feed.entries[1].keys())\n",
    "print(feed.entries[1].title)\n",
    "print(feed.entries[1].summary)\n",
    "print(feed.entries[1].link)\n",
    "print(type(feed.entries[1]))"
   ]
  },
  {
   "cell_type": "markdown",
   "metadata": {},
   "source": [
    "## Combine relevant parts of description into a summary for pricing model"
   ]
  },
  {
   "cell_type": "code",
   "execution_count": 6,
   "metadata": {},
   "outputs": [
    {
     "data": {
      "text/plain": [
       "'Elegant Black 1958 Buick Century convertible with extravagant show chrome and shimmering diamond grill. \\xa0This impressive piece of automotive art was owned by one family for over 50 years and handed down from father to son and has undergone an extensive restoration with attention to detail, with massive show chrome all the way around. One of only 2588 built in 1958 and is showing only 59 miles since completion. The new luxurious red interior was restored to a very impressive level with new carpet, seat cover, door panels and trim and shows like new. The interior is optioned with power windows and power seats. \\xa0The dash was also restore to a high level, repainted with a new dash pad and refurbished instrument cluster showing just 59 miles. \\xa0Under the hood is factory correct and just as impressive showcasing its 364 cubic inch Fireball nailhead designed engine, boasting 300 horsepower and 400 foot pounds of torque with 10-1 compression, topped off with a Quadrajet 4-barrel carburetor and launched by the Flight-Pitch Dyna-Flow automation transmission, nicely optioned with power steering and Hydraulic brakes. \\xa0The beautiful Buick American Dream Machine has major curb appeal with correct full size wheel covers, wide white walls and is topped off with a newer matching white power top.'"
      ]
     },
     "execution_count": 6,
     "metadata": {},
     "output_type": "execute_result"
    }
   ],
   "source": [
    "soup = BeautifulSoup(feed.entries[1].summary, 'html.parser')\n",
    "soup.find('h3').find('strong').get_text(separator='\\n', strip=True)"
   ]
  },
  {
   "cell_type": "code",
   "execution_count": 7,
   "metadata": {},
   "outputs": [
    {
     "name": "stdout",
     "output_type": "stream",
     "text": [
      "An extensive restoration was preformed on this black Buick Century Convertible  \n",
      "Professionally painted in Black with white convertible top\n",
      "Restored Fashionaire Dynastar diamond grille\n",
      "Re-chromed front and rear bumpers and tail trim \n",
      "Jeweled in beautiful chrome and stainless all the way around\n",
      "New Century side trim \n",
      "Newer white power top\n",
      "Full size wheel covers\n",
      "Wide whitewall tires\n",
      "Opulent restored red interior\n",
      "Impeccable restored dash with new dash pad\n",
      "Refurbished instrument cluster with odometer showing just 59 miles \n",
      "Power windows and power seats \n",
      "New seat covers, door panels and carpet \n",
      "Restored steering wheel and new chrome horn ring and horn \n",
      "In dash clock \n",
      "Pushbutton Sonomatic radio\n",
      "Show quality and factory correct engine compartment \n",
      "364 cubic inch Fireball Nailhead V8 engine\n",
      "Flight Pitch Dynaflow automatic transmission\n",
      "Power steering\n",
      "Hydraulic brakes with aluminum drums on the front \n",
      "Structurally beautiful metal structure \n",
      "Very solid original floors and frame \n",
      "Ball joint front suspension with coil springs\n"
     ]
    }
   ],
   "source": [
    "for line in soup.find_all('li'):\n",
    "    print(line.get_text(separator='\\n'))"
   ]
  },
  {
   "cell_type": "code",
   "execution_count": 29,
   "metadata": {},
   "outputs": [],
   "source": [
    "def get_price(text: str) -> int:\n",
    "    \"\"\"Finds price from a text string.\"\"\"\n",
    "    # Find the line containing \"Price:\"\n",
    "    for line in text.split(\"\\n\"):\n",
    "        if \"Price:\" in line:\n",
    "            raw_price = line.split(\"Price:\")[-1].strip()  # Extract price value\n",
    "            clean_price = re.sub(r\"[^\\d]\", \"\", raw_price)  # Removes all non-digit characters\n",
    "            if clean_price:\n",
    "                clean_price = int(clean_price)\n",
    "                return clean_price\n",
    "            else:\n",
    "                return None"
   ]
  },
  {
   "cell_type": "code",
   "execution_count": 10,
   "metadata": {},
   "outputs": [
    {
     "data": {
      "text/plain": [
       "{'title': '1958 Buick Century Extensive Restore, 364 Auto PS PT',\n",
       " 'title_detail': {'type': 'text/plain',\n",
       "  'language': None,\n",
       "  'base': 'https://www.admcars.com/rssfeed.php',\n",
       "  'value': '1958 Buick Century Extensive Restore, 364 Auto PS PT'},\n",
       " 'summary': '1958 Buick Century Extensive Restore, 364 Auto PS PT<br />\\n\\t\\t\\tStock # 5082, Mileage: 0, VIN # 6E2002708<br />\\n\\t\\t\\tPrice: $94,900<br />\\n\\t\\t\\tExterior Color: Black, Interior Color: Red<br />\\n\\t\\t\\t<h3><strong>Elegant Black 1958 Buick Century convertible with extravagant show chrome and shimmering diamond grill. &nbsp;This impressive piece of automotive art was owned by one family for over 50 years and handed down from father to son and has undergone an extensive restoration with attention to detail, with massive show chrome all the way around. One of only 2588 built in 1958 and is showing only 59 miles since completion. The new luxurious red interior was restored to a very impressive level with new carpet, seat cover, door panels and trim and shows like new. The interior is optioned with power windows and power seats. &nbsp;The dash was also restore to a high level, repainted with a new dash pad and refurbished instrument cluster showing just 59 miles. &nbsp;Under the hood is factory correct and just as impressive showcasing its 364 cubic inch Fireball nailhead designed engine, boasting 300 horsepower and 400 foot pounds of torque with 10-1 compression, topped off with a Quadrajet 4-barrel carburetor and launched by the Flight-Pitch Dyna-Flow automation transmission, nicely optioned with power steering and Hydraulic brakes. &nbsp;The beautiful Buick American Dream Machine has major curb appeal with correct full size wheel covers, wide white walls and is topped off with a newer matching white power top.&nbsp;</strong></h3><p><br /><strong>EXTERIOR:</strong></p><ul>\\t<li>An extensive restoration was preformed on this black Buick Century Convertible &nbsp;</li>\\t<li>Professionally painted in Black with white convertible top</li>\\t<li>Restored Fashionaire Dynastar diamond grille</li>\\t<li>Re-chromed front and rear bumpers and tail trim&nbsp;</li>\\t<li>Jeweled in beautiful chrome and stainless all the way around</li>\\t<li>New Century side trim&nbsp;</li>\\t<li>Newer white power top</li>\\t<li>Full size wheel covers</li>\\t<li>Wide whitewall tires</li></ul><p><strong>INTERIOR:</strong></p><ul>\\t<li>Opulent restored red interior</li>\\t<li>Impeccable restored dash with new dash pad</li>\\t<li>Refurbished instrument cluster with odometer showing just 59 miles&nbsp;</li>\\t<li>Power windows and power seats&nbsp;</li>\\t<li>New seat covers, door panels and carpet&nbsp;</li>\\t<li>Restored steering wheel and new chrome horn ring and horn&nbsp;</li>\\t<li>In dash clock&nbsp;</li>\\t<li>Pushbutton Sonomatic radio</li></ul><p><strong>MECHANICS:</strong></p><ul>\\t<li>Show quality and factory correct engine compartment&nbsp;</li>\\t<li>364 cubic inch Fireball Nailhead V8 engine</li>\\t<li>Flight Pitch Dynaflow automatic transmission</li>\\t<li>Power steering</li>\\t<li>Hydraulic brakes with aluminum drums on the front&nbsp;</li></ul><p><strong>UNDERCARRIAGE:</strong></p><ul>\\t<li>Structurally beautiful metal structure&nbsp;</li>\\t<li>Very solid original floors and frame&nbsp;</li>\\t<li>Ball joint front suspension with coil springs</li></ul><br /><span style=\"line-height: 20.7999992370605px;\"><strong>American Dream Machines</strong><br />At American Dream Machines, we typically have over 100 quality classic cars and trucks in stock and for sale. We have everything from Corvettes to Cadillacs, Camaros, Mustangs, Mopars, GTOs, Chevelles, Bel Airs, Blazers and exotic sports cars. Our classics and muscle cars range from the 1950s to the 1970s. Our inventory is diverse and continuously changing and always growing! </span> <span style=\"line-height: 20.7999992370605px;\"> Our #1 Goal is to make you, our customer happy with the American classic and muscle cars we offer. We highly recommend that ALL CUSTOMERS call our knowledgeable, experienced staff and with Midwest values and have very detailed discussions regarding overall condition of any of our classics that you are considering getting in the drivers seat of. Our phone number is (515)-245-9100 and we are centrally located in the heartland of America, in Des Moines Iowa. </span> <span style=\"line-height: 20.7999992370605px;\"> American Dream Machines occupies the historic 41,000 square foot Packard Dealership. We are one of the largest full service classic car dealerships in the Midwest. We have over 10 active Mechanic hoists, a body shop and detail bays that are used by our technicians to inspect, repair, upgrade and detail our cars so that they are ready to be delivered to your driveway. Please give us a call and we will be happy to help get your dream car to almost any location worldwide! </span> <span style=\"line-height: 20.7999992370605px;\"> ALL OF OUR PICTURES AND VIDEOS ARE REAL, ALL THE WAY AROUND! We photograph our cars in our professional photo studio for the best possible image accuracy and representation of the cars. We do this because of our commitment to the authenticity and quality of the cars that we sell and the commitment to our customers. </span><br />&nbsp;<br />&nbsp;',\n",
       " 'summary_detail': {'type': 'text/html',\n",
       "  'language': None,\n",
       "  'base': 'https://www.admcars.com/rssfeed.php',\n",
       "  'value': '1958 Buick Century Extensive Restore, 364 Auto PS PT<br />\\n\\t\\t\\tStock # 5082, Mileage: 0, VIN # 6E2002708<br />\\n\\t\\t\\tPrice: $94,900<br />\\n\\t\\t\\tExterior Color: Black, Interior Color: Red<br />\\n\\t\\t\\t<h3><strong>Elegant Black 1958 Buick Century convertible with extravagant show chrome and shimmering diamond grill. &nbsp;This impressive piece of automotive art was owned by one family for over 50 years and handed down from father to son and has undergone an extensive restoration with attention to detail, with massive show chrome all the way around. One of only 2588 built in 1958 and is showing only 59 miles since completion. The new luxurious red interior was restored to a very impressive level with new carpet, seat cover, door panels and trim and shows like new. The interior is optioned with power windows and power seats. &nbsp;The dash was also restore to a high level, repainted with a new dash pad and refurbished instrument cluster showing just 59 miles. &nbsp;Under the hood is factory correct and just as impressive showcasing its 364 cubic inch Fireball nailhead designed engine, boasting 300 horsepower and 400 foot pounds of torque with 10-1 compression, topped off with a Quadrajet 4-barrel carburetor and launched by the Flight-Pitch Dyna-Flow automation transmission, nicely optioned with power steering and Hydraulic brakes. &nbsp;The beautiful Buick American Dream Machine has major curb appeal with correct full size wheel covers, wide white walls and is topped off with a newer matching white power top.&nbsp;</strong></h3><p><br /><strong>EXTERIOR:</strong></p><ul>\\t<li>An extensive restoration was preformed on this black Buick Century Convertible &nbsp;</li>\\t<li>Professionally painted in Black with white convertible top</li>\\t<li>Restored Fashionaire Dynastar diamond grille</li>\\t<li>Re-chromed front and rear bumpers and tail trim&nbsp;</li>\\t<li>Jeweled in beautiful chrome and stainless all the way around</li>\\t<li>New Century side trim&nbsp;</li>\\t<li>Newer white power top</li>\\t<li>Full size wheel covers</li>\\t<li>Wide whitewall tires</li></ul><p><strong>INTERIOR:</strong></p><ul>\\t<li>Opulent restored red interior</li>\\t<li>Impeccable restored dash with new dash pad</li>\\t<li>Refurbished instrument cluster with odometer showing just 59 miles&nbsp;</li>\\t<li>Power windows and power seats&nbsp;</li>\\t<li>New seat covers, door panels and carpet&nbsp;</li>\\t<li>Restored steering wheel and new chrome horn ring and horn&nbsp;</li>\\t<li>In dash clock&nbsp;</li>\\t<li>Pushbutton Sonomatic radio</li></ul><p><strong>MECHANICS:</strong></p><ul>\\t<li>Show quality and factory correct engine compartment&nbsp;</li>\\t<li>364 cubic inch Fireball Nailhead V8 engine</li>\\t<li>Flight Pitch Dynaflow automatic transmission</li>\\t<li>Power steering</li>\\t<li>Hydraulic brakes with aluminum drums on the front&nbsp;</li></ul><p><strong>UNDERCARRIAGE:</strong></p><ul>\\t<li>Structurally beautiful metal structure&nbsp;</li>\\t<li>Very solid original floors and frame&nbsp;</li>\\t<li>Ball joint front suspension with coil springs</li></ul><br /><span style=\"line-height: 20.7999992370605px;\"><strong>American Dream Machines</strong><br />At American Dream Machines, we typically have over 100 quality classic cars and trucks in stock and for sale. We have everything from Corvettes to Cadillacs, Camaros, Mustangs, Mopars, GTOs, Chevelles, Bel Airs, Blazers and exotic sports cars. Our classics and muscle cars range from the 1950s to the 1970s. Our inventory is diverse and continuously changing and always growing! </span> <span style=\"line-height: 20.7999992370605px;\"> Our #1 Goal is to make you, our customer happy with the American classic and muscle cars we offer. We highly recommend that ALL CUSTOMERS call our knowledgeable, experienced staff and with Midwest values and have very detailed discussions regarding overall condition of any of our classics that you are considering getting in the drivers seat of. Our phone number is (515)-245-9100 and we are centrally located in the heartland of America, in Des Moines Iowa. </span> <span style=\"line-height: 20.7999992370605px;\"> American Dream Machines occupies the historic 41,000 square foot Packard Dealership. We are one of the largest full service classic car dealerships in the Midwest. We have over 10 active Mechanic hoists, a body shop and detail bays that are used by our technicians to inspect, repair, upgrade and detail our cars so that they are ready to be delivered to your driveway. Please give us a call and we will be happy to help get your dream car to almost any location worldwide! </span> <span style=\"line-height: 20.7999992370605px;\"> ALL OF OUR PICTURES AND VIDEOS ARE REAL, ALL THE WAY AROUND! We photograph our cars in our professional photo studio for the best possible image accuracy and representation of the cars. We do this because of our commitment to the authenticity and quality of the cars that we sell and the commitment to our customers. </span><br />&nbsp;<br />&nbsp;'},\n",
       " 'links': [{'rel': 'alternate',\n",
       "   'type': 'text/html',\n",
       "   'href': 'http://www.admcars.com/1958-buick-century-extensive-restore,-364-auto-ps-pt-c-1607.htm'},\n",
       "  {'length': '8202',\n",
       "   'type': 'image/jpeg',\n",
       "   'href': 'http://www.admcars.com/galleria_images/1607/1607_main_t.jpg',\n",
       "   'rel': 'enclosure'}],\n",
       " 'link': 'http://www.admcars.com/1958-buick-century-extensive-restore,-364-auto-ps-pt-c-1607.htm',\n",
       " 'id': 'http://www.admcars.com/1958-buick-century-extensive-restore,-364-auto-ps-pt-c-1607.htm',\n",
       " 'guidislink': False,\n",
       " 'published': 'Fri, 07 Mar 2025 21:16:53 UTC',\n",
       " 'published_parsed': time.struct_time(tm_year=2025, tm_mon=3, tm_mday=7, tm_hour=21, tm_min=16, tm_sec=53, tm_wday=4, tm_yday=66, tm_isdst=0)}"
      ]
     },
     "execution_count": 10,
     "metadata": {},
     "output_type": "execute_result"
    }
   ],
   "source": [
    "feed.entries[1]"
   ]
  },
  {
   "cell_type": "code",
   "execution_count": 11,
   "metadata": {},
   "outputs": [
    {
     "name": "stdout",
     "output_type": "stream",
     "text": [
      "None\n",
      "94900\n"
     ]
    }
   ],
   "source": [
    "# price function works in both cases (has price / doesn't have price)\n",
    "print(price(feed.entries[0].summary))\n",
    "print(price(feed.entries[1].summary))"
   ]
  },
  {
   "cell_type": "code",
   "execution_count": 42,
   "metadata": {},
   "outputs": [],
   "source": [
    "def get_price_and_description(deal: feedparser.util.FeedParserDict) -> Tuple[str, int]:\n",
    "    \"\"\"Combines the text from <h3><strong> and all <li> elements into a single string.\n",
    "       Extracts price. \n",
    "    \"\"\"\n",
    "    soup = BeautifulSoup(deal.summary, 'html.parser')\n",
    "    # extract all text\n",
    "    text = soup.get_text(separator=\"\\n\")\n",
    "    # get price\n",
    "    price = get_price(text)\n",
    "    if not price:\n",
    "        return None\n",
    "    # body of description is in h3 header\n",
    "    h3_element = soup.find('h3')\n",
    "    if h3_element:\n",
    "        strong_element = h3_element.find('strong')\n",
    "        if strong_element:\n",
    "            h3_text = strong_element.get_text(separator='\\n', strip=True)\n",
    "        else:\n",
    "            h3_text = ''\n",
    "    else:\n",
    "        h3_text = ''\n",
    "    # Initialize the combined string with the h3_element text\n",
    "    combined_string = h3_text + \"\\n\" # Add a newline to seperate the h3 text and list items.\n",
    "\n",
    "    # list elements contain more detailed info on repairs, build, etc.\n",
    "    for line in soup.find_all('li'):\n",
    "        combined_string += line.get_text(separator='\\n', strip=True) + '\\n'\n",
    "        \n",
    "    return combined_string.rstrip('\\n'), price # remove last new line from combined string"
   ]
  },
  {
   "cell_type": "code",
   "execution_count": 37,
   "metadata": {},
   "outputs": [],
   "source": [
    "from config import CARS\n",
    "\n",
    "def generate_year_pattern(start_year, end_year) -> str:\n",
    "    \"\"\"\n",
    "    Generates a regex pattern to match any year between start_year and end_year (inclusive).\n",
    "    \"\"\"\n",
    "    return rf\"\\b({'|'.join(str(year) for year in range(start_year, end_year + 1))})\\b\"\n",
    "\n",
    "def contains_year_and_model(text: str, model: str, start_year: int, end_year: int) -> Tuple[Optional[str], Optional[str]]:\n",
    "    \"\"\"\n",
    "    Extracts values for year and model from title text if exists.\n",
    "    \"\"\"\n",
    "    # Regex pattern for a 4-digit year within range\n",
    "    year_pattern = generate_year_pattern(start_year, end_year)\n",
    "    \n",
    "    # Check if model and year exist\n",
    "    year_match = re.search(year_pattern, text)\n",
    "    model_match = re.search(rf\"\\b{model}\\b\", text, re.IGNORECASE)  # Case-insensitive match\n",
    "    \n",
    "    found_year = year_match.group(0) if year_match else None\n",
    "    found_model = model_match.group(0) if model_match else None \n",
    "    \n",
    "    return found_year, found_model\n",
    "# get year and model from feed\n",
    "# if year and model in CARS\n",
    "# add to list\n",
    "\n",
    "def match_model_and_year(title: str) -> Tuple[Optional[str], Optional[str], Optional[str]]:\n",
    "    make = None\n",
    "    model = None\n",
    "    year = None\n",
    "    \n",
    "    for car in CARS:\n",
    "        start_year = car['YearFrom']\n",
    "        end_year = car['YearTo']\n",
    "        car_model = car['Model']\n",
    "        car_make = car['Make']\n",
    "        make = car_make\n",
    "        \n",
    "        year, model = contains_year_and_model(title, car_model, start_year, end_year)    \n",
    "    \n",
    "        if model:\n",
    "            make = car_make\n",
    "            break\n",
    "              \n",
    "    return make, model, year\n"
   ]
  },
  {
   "cell_type": "code",
   "execution_count": 17,
   "metadata": {},
   "outputs": [
    {
     "data": {
      "text/plain": [
       "'\\\\b(1992|1993|1994|1995|1996|1997)\\\\b'"
      ]
     },
     "execution_count": 17,
     "metadata": {},
     "output_type": "execute_result"
    }
   ],
   "source": [
    "generate_year_pattern(1992, 1997)"
   ]
  },
  {
   "cell_type": "code",
   "execution_count": 20,
   "metadata": {},
   "outputs": [
    {
     "name": "stdout",
     "output_type": "stream",
     "text": [
      "1965\n",
      "1971\n",
      "Mustang\n",
      "Ford\n",
      "1968\n",
      "1970\n",
      "Charger\n",
      "Dodge\n",
      "1966\n",
      "1977\n",
      "Bronco\n",
      "Ford\n",
      "1967\n",
      "1969\n",
      "Camaro\n",
      "Chevrolet\n"
     ]
    }
   ],
   "source": [
    "for car in CARS:\n",
    "    print(car['YearFrom'])\n",
    "    print(car['YearTo'])\n",
    "    print(car['Model'])\n",
    "    print(car['Make'])"
   ]
  },
  {
   "cell_type": "code",
   "execution_count": 39,
   "metadata": {},
   "outputs": [
    {
     "data": {
      "text/plain": [
       "('Chevrolet', 'Camaro', '1967')"
      ]
     },
     "execution_count": 39,
     "metadata": {},
     "output_type": "execute_result"
    }
   ],
   "source": [
    "match_model_and_year(feed.entries[13].title)"
   ]
  },
  {
   "cell_type": "code",
   "execution_count": 40,
   "metadata": {},
   "outputs": [
    {
     "data": {
      "text/plain": [
       "('Striking Electric Blue, 1967 Rally Sport, Pro-Tour Chevrolet Camaro Convertible with RS hidden headlights and an extensive list of custom modifications, making it a one of a kind muscle machine that was built for show and go. Under the hood is a show stopping, chromed out, engine compartment, showcasing a \\xa0fuel injected 5.7L LT1 V8 engine, accompanied by a chrome serpentine belt system, nicely optioned with newer chrome AC, chrome power steering, \\xa04-wheel power disc brakes and with a 4-speed 700R4 automatic overdrive transmission to kick this radical Camaro into high gear. \\xa0Fully custom two tone gray bucket seat interior with dark gray carbon fiber pattern seat inserts and lots of upgrades; like power windows, Vintage air conditioning, brand new black console with new working Camaro gauges, tach, tilt steering and leather wrapped steering wheel, topped off with a newer\\xa0black canvas convertible top that fits snug. This Electric Blue Camaro sounds even better than it looks, with an Alpine High-Fi, audio system, Alpine head unit, eight custom Alpine door and back speakers, and serious sound in the trunk with an Alpine sub woofer and JL Audio amplifier. This American street machine gorgeous body line and with 1968 doors with removed wing windows for a more sleek look, \\xa0shaved door handles, key locks and fuel filler cap and a killer lowered stance rolling on Riddler 17 inch chrome and newer Continental performance radials and is ready to put the rubber to the road.\\nElectric Blue custom built Camaro with RS and performance upgrades\\nGorgeous Camaro body with high-end custom paint job\\nNewer black canvas convertible top\\nShaved door handles and fuel filler cap\\nCustom tail lights for that clean look\\n1968 doors with removed wing windows for better lines\\nCowl induction hood with subtle custom ghost flames\\nRally Sport electric hidden headlights\\nNewer bumpers front and rear.\\nFront and rear spoiler\\nRiddler 17 inch chrome wheels\\nNewer Continental performance rated radials\\nCustom gray and Carbon fiber bucket seat interior\\nNew Camaro center console with correct RS gauges\\nPower windows\\nTilt steering column\\nBillet steering wheel\\nFactory tach\\nHigh- end Alpine Audio sound system,\\nEight separate speakers in interior area\\nJL Audio amplifier and sub system in trunk\\nShow stopping engine compartment painted Electric Blue\\nChromed out, Fuel injected 5.7L LT1 V8 engine Casting 10125327 1992\\nCustom chrome serpentine pulley system\\nChrome Vintage Air Conditioning\\nChrome Power steering pump\\n4 Wheel power disc brakes,\\nBaer slotted disc brakes on the front\\n700R4 Automatic overdrive transmission\\nNewer ceramic coated headers\\nAluminum radiator\\nDual electric fans\\nSmoothed painted firewall\\nChrome alternator\\nChrome hood hinges and hood latch\\n12-bolt posi-traction rear end with a 3.55 gear\\nTubular A-arms\\nHeavy duty sway bars front and rear\\nSolid clean and intact\\nNewer custom stainless gas tank',\n",
       " 79900)"
      ]
     },
     "execution_count": 40,
     "metadata": {},
     "output_type": "execute_result"
    }
   ],
   "source": [
    "get_price_and_description(feed.entries[13])"
   ]
  },
  {
   "cell_type": "code",
   "execution_count": 43,
   "metadata": {},
   "outputs": [
    {
     "name": "stderr",
     "output_type": "stream",
     "text": [
      "100%|██████████| 90/90 [00:00<00:00, 958.95it/s]\n"
     ]
    }
   ],
   "source": [
    "deals = []\n",
    "for entry in tqdm(feed.entries):\n",
    "    title = entry.title\n",
    "    make, model, year = match_model_and_year(title)\n",
    "    if model and year:\n",
    "        result = get_price_and_description(entry)\n",
    "        if isinstance(result, tuple) and len(result) == 2:\n",
    "            description, price = result\n",
    "            deals.append({\n",
    "                'title': title,\n",
    "                'make': make,\n",
    "                'model': model,\n",
    "                'year': year,\n",
    "                'price': price,\n",
    "                'description': description\n",
    "            })\n"
   ]
  },
  {
   "cell_type": "code",
   "execution_count": 44,
   "metadata": {},
   "outputs": [
    {
     "data": {
      "text/plain": [
       "[{'title': '1967 Chevrolet Camaro Electric Blue 5.7L 700R4 AC PS PB',\n",
       "  'make': 'Chevrolet',\n",
       "  'model': 'Camaro',\n",
       "  'year': '1967',\n",
       "  'price': 79900,\n",
       "  'description': 'Striking Electric Blue, 1967 Rally Sport, Pro-Tour Chevrolet Camaro Convertible with RS hidden headlights and an extensive list of custom modifications, making it a one of a kind muscle machine that was built for show and go. Under the hood is a show stopping, chromed out, engine compartment, showcasing a \\xa0fuel injected 5.7L LT1 V8 engine, accompanied by a chrome serpentine belt system, nicely optioned with newer chrome AC, chrome power steering, \\xa04-wheel power disc brakes and with a 4-speed 700R4 automatic overdrive transmission to kick this radical Camaro into high gear. \\xa0Fully custom two tone gray bucket seat interior with dark gray carbon fiber pattern seat inserts and lots of upgrades; like power windows, Vintage air conditioning, brand new black console with new working Camaro gauges, tach, tilt steering and leather wrapped steering wheel, topped off with a newer\\xa0black canvas convertible top that fits snug. This Electric Blue Camaro sounds even better than it looks, with an Alpine High-Fi, audio system, Alpine head unit, eight custom Alpine door and back speakers, and serious sound in the trunk with an Alpine sub woofer and JL Audio amplifier. This American street machine gorgeous body line and with 1968 doors with removed wing windows for a more sleek look, \\xa0shaved door handles, key locks and fuel filler cap and a killer lowered stance rolling on Riddler 17 inch chrome and newer Continental performance radials and is ready to put the rubber to the road.\\nElectric Blue custom built Camaro with RS and performance upgrades\\nGorgeous Camaro body with high-end custom paint job\\nNewer black canvas convertible top\\nShaved door handles and fuel filler cap\\nCustom tail lights for that clean look\\n1968 doors with removed wing windows for better lines\\nCowl induction hood with subtle custom ghost flames\\nRally Sport electric hidden headlights\\nNewer bumpers front and rear.\\nFront and rear spoiler\\nRiddler 17 inch chrome wheels\\nNewer Continental performance rated radials\\nCustom gray and Carbon fiber bucket seat interior\\nNew Camaro center console with correct RS gauges\\nPower windows\\nTilt steering column\\nBillet steering wheel\\nFactory tach\\nHigh- end Alpine Audio sound system,\\nEight separate speakers in interior area\\nJL Audio amplifier and sub system in trunk\\nShow stopping engine compartment painted Electric Blue\\nChromed out, Fuel injected 5.7L LT1 V8 engine Casting 10125327 1992\\nCustom chrome serpentine pulley system\\nChrome Vintage Air Conditioning\\nChrome Power steering pump\\n4 Wheel power disc brakes,\\nBaer slotted disc brakes on the front\\n700R4 Automatic overdrive transmission\\nNewer ceramic coated headers\\nAluminum radiator\\nDual electric fans\\nSmoothed painted firewall\\nChrome alternator\\nChrome hood hinges and hood latch\\n12-bolt posi-traction rear end with a 3.55 gear\\nTubular A-arms\\nHeavy duty sway bars front and rear\\nSolid clean and intact\\nNewer custom stainless gas tank'},\n",
       " {'title': '1967 Chevrolet Camaro #s Matching 327 Auto PS PB AC',\n",
       "  'make': 'Chevrolet',\n",
       "  'model': 'Camaro',\n",
       "  'year': '1967',\n",
       "  'price': 49900,\n",
       "  'description': 'Fresh out of the body shop. \\xa0Very correct and original 1967 Camaro, loaded with power options and professionally painted in code correct LL Tahoe Turquoise, new code correct, 760 black bucket seat interior. \\xa0This highly optioned American Dream Machine comes with its numbers matching 327 engine, automatic transmission, power steering, power brakes, and original factory AC that appears intact. This exceptional Camaro was previously owned by a doctor for many years and was very well cared for and has excellent original factory metal structure. \\xa0This classic Camaro is has SS stripes and badging and is rolling on a Rally rims, new center caps and trim rings and a new set of BFG white letter radials.\\nOrignal code- LL Tahoe Turquoise 1967 Camaro\\nAll original intact factory metal structure with great panel fitment\\nProfessionally painted and color correct\\nWhite SS nose stripe and front and rear spoilers\\nNew bumpers trim, and \\xa0emblems\\nNewly refurbished Rally rims\\nNew BF Goodrich white letter radials\\nNew Black Bucket Interior\\nNew carpet and door panels\\nImpressive original dash in great shape\\nShow quality engine compartment\\nOriginal numbers matching 327 V8 engine ME suffix code indicating 210 horsepower with Powerglide automatic transmission\\nOriginal air cleaner and new chrome valve covers\\nAutomatic transmission\\nPower steering\\nPower brakes\\nRare factory AC\\nExtremely original, clean, solid, and intact\\n10 bolt with 3.08 gears casting 3894859'},\n",
       " {'title': '1967 Chevrolet Camaro Pro-Tour Frame-Off AC Foose',\n",
       "  'make': 'Chevrolet',\n",
       "  'model': 'Camaro',\n",
       "  'year': '1967',\n",
       "  'price': 74900,\n",
       "  'description': \"Triple Black 1967 Pro-Tour Camaro convertible, Frame-off restored and loaded with power and performance options . Frame off restored with mirror finish jet black paint over a structurally beautiful metal body. Check out the undercarriage. It's amazing. \\xa0Under the cowl hood showcases 350 crate engine jeweled with show chrome and toped off with aluminum heads and chrome Chevrolet valve covers. This black beauty is loaded with power and performance options, including chrome serpentine belt system, chrome power steering, chrome power booster\\xa0 and newer front disc brakes and chrome Vintage air conditioning and an aluminum\\xa0radiator to keep the engine cool. \\xa0The black bucket interior is equally as nice newer black bucket seats and center console and factory styled 3-speed shifter on the floor and topped off with a newer heavy duty black cloth soft top. This jet black street beast is launched 350 Turbo Hydra-Matic 3-speed transmission and rolling on Foose chrome and performance rated radials for that Pro-Tour look.\\nFrame-Off restored\\nProfessionally painted in Black base clear paint rubbed to a deep shine\\nFront and rear spoilers\\nUpgraded tinted windshield\\nUpgraded Cowl hood\\nNewer rocker trim\\nUpgraded black Hartz soft cloth convertible top\\n17 inch chrome Foose wheels\\nPerformance rated radials\\nNewer black seat upholstery and door panels\\nNewer fitted carpet\\nNewer chrome sill plates\\nCenter console with correct factory T shifter handle\\nUpgraded \\xa0Classic Instruments tach and gauges\\nNewer dash pad\\nUpgraded stereo with kick panel speakers\\nIncredible engine compartment dressed in show chrome\\nUpgraded 350 GM crate engine topped off with aluminum heads\\nChrome serpentine belt system Billet pulleys and brackets\\nChrome polished chrome intake\\nChrome Chevrolet show chrome valve covers\\nChrome\\xa0Vintage air conditioning system\\nChrome alternator\\nChrome Billet hood hinges\\nNewer upgraded fuel injection\\nUpgraded Turbo 350 Hydra-Matic 3-Speed automatic transmission\\nAluminum radiator with electric cooling fan\\nUpgraded Ceramic coated headers\\nElectronic ignition\\nHigh flow water pump\\nFrame-off restored\\nRock solid and clean floors and frame\\nNewer rebuilt suspension\\nNewer gas tank\\nNewer 3 inch heavy duty exhaust.\"},\n",
       " {'title': '1967 Chevrolet Camaro SS options, 327 Auto PS PB',\n",
       "  'make': 'Chevrolet',\n",
       "  'model': 'Camaro',\n",
       "  'year': '1967',\n",
       "  'price': 59900,\n",
       "  'description': 'Beautiful Bolero Red 1967 Camaro convertible with SS appearance options.\\xa0 New black bucket seat interior with center console and new black convertible top. \\xa0Under the hood is a date code correct 327 V8 engine and automatic transmission. Edelbrock Performer aluminum intake and Edelbrock 4 bbl. carb delivers fuel to this American Dream Machine. Optioned with power steering and power brakes for safety and easy cruising.\\xa0 The paint is smooth and surrounded by new chrome bumpers, new rocker moldings, new chrome wheel lip moldings, painted to match rear spoiler, chin spoiler and Super Sport hood with chrome inserts for drop dead good looks. This beautiful Camaro convertible is rolling on new Crome Riddler rims and performance radials.\\nBolero Red with black SS nose stripe\\nSS hood with chrome inserts and SS emblems\\nNew black convertible top\\nFront and rear spoilers\\nNew Riddler chrome rims\\nPerformance rated radials\\nVery nice black bucket seat interior\\nNew black door panels and arm rests\\nNew fitted carpet\\nNew sill plates\\nOriginal steering wheel\\nFactory center console with correct t handle shifter\\nShow quality engine compartment\\n327 cubic inch V8 engine 1967 date code with ME suffix code casting number 3892657\\nAutomatic transmission Powerglide\\nEdelbrock intake and carb.\\nPower steering\\nPower Brakes\\nSolid clean and intact\\nFactory 10 bolt rear with 3.08 gear that is numbers matching'},\n",
       " {'title': '1968 Chevrolet Camaro #s Match 327 Auto PS PB PT',\n",
       "  'make': 'Chevrolet',\n",
       "  'model': 'Camaro',\n",
       "  'year': '1968',\n",
       "  'price': 52900,\n",
       "  'description': 'Glistening Grotto Blue 1968 Camaro convertible with newer black bucket and console interior and black power top. This is a numbers matching and color correct Camaro convertible painted in code correct, D2, shimmering Grotto Blue paint and looks amazing in the sunshine. \\xa0Under the hood is factory correct, showcasing a numbers matching 327 V8 engine topped off with correct 2bbl and factory snorkel air cleaner. \\xa0The power glide automatic transmission on the floor shifts smoothly. The car is stopped by by power disc brakes and steers easily with power assisted steering. The newer black bucket interior and console is color code correct, 714 deluxe, black custom interior, an upgrade from standard black interior. The interior has new seat covers, carpet and door panels and looks great with the wood grain accents and horseshoe shifter. This beautiful blue camaro convertible was upgraded with chrome rally rims and newer BF Goodrich white letter radials and looks amazing. We have several original \\xa0stock rally rims if you prefer the stock look on a very original car.\\nVery correct Camaro convertible\\nPainted in D2 Shimmering Grotto Blue\\nNewer black convertible power top\\nUpgraded chrome rally rims,\\nStock rally rims are available for exchange\\nNewer white letter BF Goodrich radials\\nNewer correct 714 Deluxe Black bucket seat interior with console\\nNew deluxe custom seat covers, carpet and door panels\\nGreat looking dash with wood grain accents\\nConsole with wood grain accents and new horseshoe shifter\\nNew custom grip steering wheel\\nChevrolet two hole radio\\nNumbers matching \\xa0327 V8 engine\\nPower glide automatic transmission\\nPower steering\\nPower brakes\\nSolid and intact'},\n",
       " {'title': '1968 Chevrolet Camaro SS396 Pro-Tour AC PS PB',\n",
       "  'make': 'Chevrolet',\n",
       "  'model': 'Camaro',\n",
       "  'year': '1968',\n",
       "  'price': 79900,\n",
       "  'description': 'Black on Black 1968 SS 396 Pro-Tour Camaro convertible with white stripes and white convertible top. Under the hood showcases a built to burn rubber 396 big block engine, jeweled with show chrome and loaded with performance and\\nJet black SS396 Pro-Tour Convertible\\nProfessionally painted in black with white Z28 stripes over the Cowl hood\\nExceptional metal body with great lines and panel fitment\\nNewer white convertible top\\nNew US Mag Chrome Rambler Rims\\nNew performance rated radials\\nNew custom black bucket seat interior\\nMore comfortable Camaro styled seats\\nConsole with horseshoe floor shifter and gauges\\nCustom sound system\\nEFI Electronic Fuel System monitor\\nNew custom steering wheel\\nShow quality engine compartment\\nPerformance Built SS396 engine casting 3969854\\nChrome Serpentine belt system\\nNew chrome Vintage AC\\n700 R4 automatic transmission casting 8676359\\nFitech EFI Electronic Fuel Injection System\\nEdelbrock aluminum intake\\n2000 stall converter\\nNew chrome power steering\\nNew chrome power brake booster\\nPainted to match valve covers\\nAluminum radiator\\nStructurally solid and intact\\nExcelent metal structure\\nLots of new parts'},\n",
       " {'title': '1968 Chevrolet Camaro RS Triple Black AC 4-Wheel PDB',\n",
       "  'make': 'Chevrolet',\n",
       "  'model': 'Camaro',\n",
       "  'year': '1968',\n",
       "  'price': 79900,\n",
       "  'description': 'Striking triple black 1968 Chevrolet Rally Sport Camaro with white Z28 stripes and RS hidden headlights and RS trim. Quality black paint, deluxe black interior and black vinyl top. \\xa0Powered by a performance built 350 c.i. engine and automatic transmission. Nicely optioned with power 4 wheel disc brakes, power steering and Vintage Air Conditioning. The Rally Sport headlight system has been upgraded with a Detroit Speed and Engineering electric RS kit for more reliability. The black interior features Deluxe seat upholstery, center console, correct horseshoe shifter, woodgrain trim and Retro Sound stereo. This American Dream Machine is rolling on restored Rally wheels and BF Goodrich white letter radials for that investment grade Rally Sport Camaro curb appeal.\\nTriple black Rally Sport Camaro with white Z28 stripes\\nNew Rally Sport hidden headlights with Detroit Speed electric headlight doors\\nCowl hood with white Z stripes\\nRear spoiler\\nBlack vinyl top\\nRally wheels with white letter tires\\nBlack interior\\nDeluxe seat upholstery\\nCenter console\\nHorseshoe shifter\\nWoodgrain trim\\nRetro Sound radio with Bluetooth\\n350 V8 engine\\nAutomatic transmission\\nNew Vintage Air\\nPower steering\\nPower 4-wheel disc brakes\\nAluminum radiator\\nVery clean solid and intact\\nNew gas tank'},\n",
       " {'title': '1968 Chevrolet Camaro Rotisserie Car 350ci, Auto PS PB',\n",
       "  'make': 'Chevrolet',\n",
       "  'model': 'Camaro',\n",
       "  'year': '1968',\n",
       "  'price': 72900,\n",
       "  'description': 'Frame off restored, Matador Red 1968 Chevrolet Camaro convertible with SS options, white hockey stripe, white soft top and deluxe black and white Houndstooth interior. \\xa0Under the hood is a show quality engine compartment showcasing a fuel injected Corvette 350 cubic inch LT1 engine that is topped off in polished billet shielding. Highly optioned with a serpentine belt system, 4 wheel disc brakes, power steering and newer Vintage Air system.\\xa0This American Dream Machine street shifts into high gear by a 4L60E automatic 4-speed automatic transmission with overdrive and is rolling on polished Torque Thrust wheels and performance rated radials to put the rubber to the road.\\nFrame off restored red Camaro\\nSS options and white hockey stripe\\nPainted in Matador Red with white hockey stripe\\nSS emblems and SS ice cube tray hood\\nNewer white convertible soft top\\nDeluxe black houndstooth interior\\nBucket seats\\nCenter console with floor shifter\\nTilt steering column\\nDakota Digital gauges\\nShow quality engine compartment\\nFuel injected 350ci LT1 Corvette engine\\nRebuilt 4L60E 4-speed automatic transmission\\nBillet March serpentine drive system\\nAluminum radiator\\nNewer Vintage AC\\nPower steering\\n4-wheel power disc brakes\\nJet Hot coated headers\\nRotisserie restore with excellent metal structure\\nLots of new parts\\nDual stainless steel exhaust system'},\n",
       " {'title': '1968 Chevrolet Camaro SS Options 400ci PS PB 12-Bolt',\n",
       "  'make': 'Chevrolet',\n",
       "  'model': 'Camaro',\n",
       "  'year': '1968',\n",
       "  'price': 72900,\n",
       "  'description': 'Triple black 1968 Chevrolet Camaro convertible that is loaded with SS and performance options. Under the SS hood is a rebuilt 400 cubic inch engine optioned with power steering, power front disc brakes and launched by a heavy duty SS Turbo 400 with a 12 bolt, posit-traction\\xa0rear end to put the rubber to the road. The black bucket seat and console interior is mostly new and looks great! New cushion grip steering wheel and tilt steering column makes getting in and out much easier. Woodgrain trim, clear gauges and factory staple shifter all add to this Camaros appeal. Rolling on new American Racing chrome wheels and performance tires for drop dead good looks.\\nBeautiful black finish over a solid Camaro body with excellent pant fitment\\nBlack power convertible top\\nRed SS nose stripe\\nSS hood with Ice cube trays\\nSS emblems\\nWheel well moldings and rocker trim\\nCurrently rolling on new American Racing chrome wheels and performance tires.\\nNice black bucket seat interior\\nCenter console\\nFactory staple shifter\\nNew fitted carpet kit\\nTilt wheel\\nWood accents on the dash and console\\nRebuilt 400 cubic inch engine casting 3951509\\nEdelbrock intake\\nEdelbrock carb 1806 800 cfm\\nNew Chevrolet Performance valve covers\\nRebuilt Turbo 400 heavy duty automatic transmission\\nPower steering\\nPower front disc brakes\\nAluminum radiator\\n12 bolt rear end with 3.55 gears and posi-traction\\nFlowmaster exhaust\\nCPP front tubular a-arms'},\n",
       " {'title': '1969 Chevrolet Camaro #s Match 327 Auto PS PB AC',\n",
       "  'make': 'Chevrolet',\n",
       "  'model': 'Camaro',\n",
       "  'year': '1969',\n",
       "  'price': 67900,\n",
       "  'description': 'An extensive restoration was completed on this very desirable, \\xa0highly optioned and color correct Daytona Yellow 1969 Camaro Sport Coupe with black stripes, black vinyl top and Protect-O-Plate. The interior features new, code-713, correct black and white houndstooth bucket seat interior with wood grain accents, deluxe door panels, center console with horseshoe shifter, Cushion Grip steering wheel, rare speed warning, fold down rear seat and correct Delco AM-FM radio. Under the hood showcases a highly optioned, numbers matching 327 engine, restored with originality in mind and loaded with power options including, power steering, \\xa0power front disc brakes and rare factory air-conditioning that will need serviced to blow cold. This highly optioned and very correct 1969 Daytona Yellow Camaro is fitted with rally rims and BF Goodrich white letter radials for that investment grade muscle car look.\\n1969 Camaro Sport Coupe Professionally painted Code-76 DaytonaYellow\\nExcellent body lines and metal structure\\nBlack sport stripes\\nNewer black vinyl top\\nNew chrome bumpers\\nFront and rear spoilers\\nRally rims\\nBF Goodrich white letter radials\\nVery nice, clean and \\xa0highly optioned interior\\nNew code-713 correct, black and white houndstooth interior\\nCorrect enter console and dash with wood grain accents\\nGreat looking dash with clear crisp gauges\\nNew carpet and door panel\\nRare factory fold-down rear seat\\nRestored trunk with jack, Rally rim spare with BFG radial\\nHighly optioned and correct, show quality engine compartment\\nNumbers matching 327 cubic inch engine, casting # 3932386 suffix code V11I9FL\\nCorrect intake and Rochester carb\\nPower steering\\nPower front disc brakes\\nRare Factory air conditioning\\nNumbers matching TH350 automatic, 3-speed transmission\\nVery solid clean and intact original metal structure\\nNewer gas tank,\\nNewer dual exhaust\\nNumbers matching 10-bolt rear-end with 2.73 gear ratio'},\n",
       " {'title': '1969 Chevrolet Camaro 496/600+hp 4-Speed PS PB',\n",
       "  'make': 'Chevrolet',\n",
       "  'model': 'Camaro',\n",
       "  'year': '1969',\n",
       "  'price': 72900,\n",
       "  'description': 'Fresh out of the Body shop. Gorgeous Cobalt Blue Metallic 1969 Camaro with white side stripes and a fresh built to burn rubber, 496 cubic inch, aluminum head, big block engine rated at over 600 horsepower under the cowl hood, launched by a rare Muncie M-22 Rock Crusher 4-speed and nicely optioned with lots of chrome and a serpentine belt system, power steering and power disc brakes. \\xa0This incredible car is very well preserved and was owned by the last owner in Texas for the last 32 years and he believed this Camaro to be a Norwood pre-code car from the factory but is is much stronger now. The car has the original, code 715 medium blue bucket seat interior and console in great shape with very nice original dash and gauges. This bright blue street beast is rolling on new US Mags Chrome Ramblers and performance rated radials to put the rubber to the road.\\nFresh out of the body shop\\nProfessionally painted in electric Cobalt Blue Metallic\\nOriginal 53-code Glacier Blue car\\nStructurally beautiful Camaro body with excellent panel fitment\\nJeweled in lots of new chrome and stainless\\nBright white hockey stripe on the side and 496 emblems\\nRolling on US Mags Chrome Rambler wheels\\nBrand new performance radials\\nNice 715-code Medium Blue bucket console interior\\nVery nice well preserved dash\\nGreat looking \\xa0original gauges in great condition\\nCenters console with \\xa0Muncie M-22 Rock Crusher 4-speed\\nProfessionally built 496 cubic inch big block engine rated at 600 plus horsepower. Less than 1k miles since built\\nRare Muncie M-22 Rock Crusher 4-speed rated at 800 foot pounds of torque\\nAluminum Heads\\nSerpentine Belt system\\nTuff-Stuff Chrome power disc brakes system\\nChrome power steering\\nChrome alternator\\nBe Cool aluminum radiator\\nNew user and lower tubular A-arms\\nNew QA1 coil over shocks\\nNew polyurethane bushings\\n10-bolt posi rear end with 4.11 rear gears\\nNew heavy duty torsion bars to support the big block engine and the power\\nFlaming River ignition and turn off\\nExcellent metal structure\\nNew ceramic coated headers\\nHeavy duty Flowmaster exhaust'},\n",
       " {'title': '1969 Chevrolet Camaro 454/450hp 5-Speed PS PB AC',\n",
       "  'make': 'Chevrolet',\n",
       "  'model': 'Camaro',\n",
       "  'year': '1969',\n",
       "  'price': 89900,\n",
       "  'description': 'Built to burn rubber, Daytona Yellow RS/SS 1969 Camaro convertible with a performance built 454 and a bad attitude and an extensive restoration. \\xa0 This is not a tired old 54 year old \\xa0RS/SS Camaro with 325hp. \\xa0This is a performance built Daytona Yellow American Street Beast that will sit you back in the seat with a serious 454 big block under the hood with performance heads, pushing out over 450 horsepower. Shifting is tight with a new Tremec 5-speed transmission, a 12-bolt posit-traction rear end to puts the rubber to the road and 4-wheel slotted power disc brakes to control the power. The new black bucket interior with console is pristine and shows very well. \\xa0 Rolling on new chrome Turbine styled US Mag wheels and new performance rated radials. This is a true American Dream Machine and would be a great\\nDaytona Yellow convertible show car\\nExtensive restoration\\nRS Hidden headlights\\nSS options, hood and and badging,\\nBlack SS hockey stripe\\nNew black convertible, power top\\nUS Mags Rambler turbine styled wheels\\nBlack factory bucket interior\\nNew black seat covers, door panels and carpet\\nCenter console with gauge package\\nModern Classic Sound AM/FM stereo\\nPerformance built \\xa0454ci engine with aluminum heads\\n10.25 compression\\nComp Cams hydraulic camshaft\\nHolly Sniper fuel injection\\nAluminum radiator\\nTremec TKX 5-speed transmission\\nNewer Vintage Air Conditioning\\nPower steering\\nPower 4-wheel disc brakes with drilled and slotted rotors\\nExcellent metal structure\\n12 bolt posit-traction rear end with 3.73 gears\\nTubular front control arms\\nSubframe connectors\\nNew Flowmaster dual exhaust\\nNew gas tank'},\n",
       " {'title': '1969 Dodge Charger 440 Magum Built To 505, 727 Auto',\n",
       "  'make': 'Dodge',\n",
       "  'model': 'Charger',\n",
       "  'year': '1969',\n",
       "  'price': 94900,\n",
       "  'description': 'Beautiful B5 Blue 1969 Dodge Charger with matching B7 Blue interior and RT options like a 440 magnum engine, professionally built, bored and stroked to a performance built 505 that will definitely leave some rubber on the road. An extensive restoration was completed less than 1250 miles ago on this rock solid B-Body with great lines and panel fitment. \\xa0Professionally painted in code correct B5 Blue with lots of new chrome, a new front grill, and new RT emblems. The matching, correct B7 Blue interior with center console is gorgeous with newer Legendary interior including new seat covers, door panels and carpet. The dash has also been restored with clear, crisp, new or refaced gauges and the roll dial radio has been rebuilt. \\xa0This Charger started as an original H-code 383 big block and has been upgraded with performance in mind. \\xa0Under the hood is a show quality engine compartment embellishing a Magnum 440 engine that has be bored and stroked to a 505 cubic inch engine that runs smooth and cool with only 1250 break in miles, topped off with Mopar valve covers and air cleaner nicely optioned with power disc brakes to control the power. The American Dream Machine is rolling on brand new chrome 18 and 20 inch Torque Thrust American Racing wheels and new performance rated radials. These wheels can be exchanged for newer Chrome Magnum rims and BF Goodrich white letter radials with very few miles on them.\\nExtensive restoration with less than 1250 on the build, See build notes in the pictures\\nProfessionally painted in correct B5 Blue over a rock sold metal body with excellent lines and panel fitment\\nVerified by original fender tag\\nLots of new chrome and new RT emblems\\nNew grill and surround\\nNew American Racing TT2 chrome wheels\\nNew performance rated radials\\nWheels can be exchanged for newer Chrome Magnum and BFGs\\nNew matching correct Blue Legendary interior, See details in pictures.\\nNew seat covers, seat buns, headliner door panels and carpet\\nNice original center console with floor shifter\\nRefurbished dash and rebuilt and refaced gauges\\nRebuilt roll dial radio with CD changer in the trunk and remote\\nVery nice correct refurbished wood steering wheel\\n440 Magnum big block bored and Stroked to 505ci cubic inches\\nProfessionally built by by Performance Engineering Racing engines\\nLess than 1250 break in miles on the entire drive train\\nDrive train components listed in the pictures of the car\\nRebuilt 727 Torque Flight automatic transmission\\nTCI Super Pro shift kit\\nMopar valve covers and air cleaner\\nNew power disc brake booster, rotors and calipers at the time of the build\\nFender tag to validate options\\nVery solid, original and intact\\nNewer dual exhaust and Legendary gas tank\\nRebuilt 8 3/4, Sure Grip posi-traction rear end, 3.55 ratio\\nRebuilt suspension front and rear'},\n",
       " {'title': '1970 Dodge Charger RT, 440 6-Pack, Pistol Grip 4-Spd PS PB',\n",
       "  'make': 'Dodge',\n",
       "  'model': 'Charger',\n",
       "  'year': '1970',\n",
       "  'price': 119900,\n",
       "  'description': '\\nAuthentic Charger RT professionally painted in correct Hemi Orange\\nReal Charger RT validated by an XS in the vin number\\nExcellent Charger B body with great lines and panel fitment\\nElectric hidden head lights\\nNewer white vinyl top and white RT tail stripe\\nRT side scope, RT emblem and badging\\nRolling on brand new American Racing TT2 Chrome\\nNew performance rated radials\\nStock wheel options are available\\nNewer white Legendary bucket seat interior\\nCenter console with pistol grip shifter\\nGreat looking dash with refaced gauges\\nShow quality engine compartment\\nOriginal, U-code 440/375hp Magnum Big block RT\\nUpgraded to a 6-Pack with three two barrel carburetors\\nPower steering and Power brakes\\nNew ceramic coat headers\\nMopar Performance polished aluminum valve covers\\nPolished aluminum intake\\nExceptional metal structure\\nSolid original and intact floors and frame\\nNewer exhaust, ceramic coated headers and correct tips\\nNew gas tank'},\n",
       " {'title': '1970 Dodge Charger R/T 440 4-Spd, Concours Winner Twice',\n",
       "  'make': 'Dodge',\n",
       "  'model': 'Charger',\n",
       "  'year': '1970',\n",
       "  'price': 119900,\n",
       "  'description': 'One of one. Award winning, rotisserie restored, Light Blue Metallic 1970 Dodge Charger R/T with very rare color combination EB3 paint and two tone B5 and B7 blue bucket seat interior and black vinyl top. \\xa0According to the Chrysler Registry Report, this rare Charger RT, is only one of one produced, with its rare options and color combination. \\xa0This incredible Mopar muscle car has benefited from an extensive rotisserie restoration, before going on to win both the Boca Ratan Concours d\\'elegance in 2017 for Best Muscle Car and the Lake Mirror Concours d\\'Elegance for Best Muscle car in 2018. This 1970 Charger RT is heavily optioned with a 440 c.i. Magnum engine, Pistol Grip 4-speed transmission, power brakes and A33 Track Pac Dana rear axle with 3.54 gears. This investment grade R/T Charger has had a no expense spared restoration, including the undercarriage and trunk, making it a potential show winner wherever it shows. This American Dream Machine Charger RT, is well documented in the Chrysler Registry and by the fender tag, as you would expect from a Mopar of this caliber. Rolling on correct, painted to match steel wheels with poverty caps and Polyglas F60-15 GT white letter tires for that investment grade muscle car appearance.\\nOne of one, documented Charger RT in the Chrysler Registry, with these options and rare color combination\\nExtensive rotisserie restored RT winning \"Best Muscle Car\" in two Concours d\\'Elegance shows\\nProfessionally painted from top to bottom in EB3 Light Blue Metallic paint with light blue tail stripe\\nCorrect R/T emblems, badges, hood and side scoops\\nFactory ordered Blue Bumble Bee tape stripe\\nBlack vinyl top\\nPainted to match steel wheel with poverty caps\\nGoodyear Polyglas white letter tire\\nRare two tone B5 and B7 Blue, bucket seat and console interior\\nOne of only 7% produced with this interior option\\nHurst Pistol Grip shifter\\nTic-Toc-Tach\\nCenter console with woodgrain applique\\nFactory AM radio updated with hidden FM and Bluetooth capabilities\\nRestored trunk painted in body color\\nTrunk mat, Goodyear spare and jack\\nShow quality engine compartment\\n440ci Magnum V8 engine\\n7 blade fan with factory correct 26in radiator\\nOne of only 15% produced with 4-speed manual transmission\\nPower brakes\\nRotisserie restored undercarriage\\nHeavy duty big block suspension\\nA33 Track Pak with 3.54 geared Dana 60 rear axle'},\n",
       " {'title': '1965 Ford Mustang Shelby Options 289 PS PDB TMI',\n",
       "  'make': 'Ford',\n",
       "  'model': 'Mustang',\n",
       "  'year': '1965',\n",
       "  'price': 69900,\n",
       "  'description': 'Firey\\xa0Orange Pearl Metallic 1965 Ford Mustang Fastback \\xa0with Shelby GT accents, Including front spoiler, side scoops, through the valance exhaust, \\xa0black stripes over the hood and rockers. Very nice newer black pony TMI bucket interior and new center console, repainted dash with new MP digital gauges, Mustang digital stereo, new heater controls and knobs, newer carpet, head liner and door panels \\xa0 This car is loaded with pro-tour and performance options including, built 289 cubic inch engine with aluminum heads, 4-speed automatic transmission with overdrive, Edelbrock Performer Intake, 4BBl carburetor, MSD, power steering, power disc brakes and a 3.80 limited slip rear end and new Shelby styled Coy wheels and performance rated radials to put the rubber to the road.\\nProfessionally painted in Orange Pearl Metallic Tri-Coat with black stripes under the clear\\nMustang fastback body with excellent metal structure and panel fitment\\nBlack Shelby GT side scoop and new fastback inserts\\nLED lights and\\xa0fog lamps\\nNew Chrome bumpers \\xa0and trim\\nNew emblems, gas cap and tail lights\\nNew Billet chrome grille\\nFront Shelby Eleanor front spoiler and\\nThough the valance exhaust\\nRolling on COY Shelby styled wheels and newer performance radials\\nGorgeous black bucket TMI Pony bucket seat interior\\nHardshell headliner\\nAftermarket gauges\\nNewer Mustang two hole digital \\xa0stereo\\nCenter console with cup holders\\nRatchet 4-speed shifter\\nPerformance built 289 cubic inch V8 engine\\nAir Flow Research aluminum cylinder heads\\nHolley 4 barrel carburetor\\nEdelbrock Performer RPM intake manifold\\nMSD billet distributor and ignition\\n4-speed automatic transmission with overdrive\\n3.80 limited slip differential\\nPower steering\\nPower front disc brakes\\nAluminum radiator\\nStructurally beautiful undercarriage\\nFull length ceramic-coated headers\\nStainless Flowmaster mufflers\\nthrough the valance exhaust'},\n",
       " {'title': '1965 Ford Mustang Bullitt Green 302 Shelby Options',\n",
       "  'make': 'Ford',\n",
       "  'model': 'Mustang',\n",
       "  'year': '1965',\n",
       "  'price': 59900,\n",
       "  'description': 'Bullitt Green 1965 Ford Mustang fastback with Hertz Shelby options. Powered by a later model and great running 302 c.i. engine, an automatic transmission, and a 9\" rear end. The engine compartment is highly detailed and the motor has been trimmed with new Cobra valve covers and a Cobra air cleaner on top of the Edelbrock 4 bbl. carb. This Mustang will stop on a dime with power 4 wheel disc brakes. The paint has a deep shine and is surrounded by new chrome bumpers, GT 350 badges and stripes, Shelby style corner windows, dual exhaust tail panel with fluted tips, and GT 350 gas filler door. The windshield is new and the other glass on the car is slightly tinted. The black interior is mostly all new with a folding rear seat, correct T handle shifter, clear and crisp gauges, a restored wood wheel, front seat belts, and a Mustang radio. Rolling on Bullitt style American Racing Torque Thrust D wheels for timeless good looks.\\nBullitt dark green metallic paint\\nNew chrome bumpers\\nGT 350 striping and badging\\nTinted glass\\nShelby style clear corner windows\\nDual exhaust cut out tail panel\\nTorque Thrust D wheels Bullitt style\\nBlack bucket seats\\nNew fitted carpet\\nFolding rear seat\\nNew chrome sill plates\\nCorrect T handle floor shifter\\nRestored wood steering wheel\\nMustang radio\\nClear and crisp gauges\\n302 ci engine\\nEdelbrock 4 bbl. carb\\nCobra valve covers and air cleaner\\nC4 Automatic transmission\\n4 wheel power disc brakes\\nSolid and intact\\n9 inch rear with highway gear\\nDual exhaust'},\n",
       " {'title': '1966 Ford Mustang Raven Black, 289FI Auto AC, PDB',\n",
       "  'make': 'Ford',\n",
       "  'model': 'Mustang',\n",
       "  'year': '1966',\n",
       "  'price': 59900,\n",
       "  'description': 'Factory Correct Raven Black 1966 Mustang convertible, professionally painted in A-Code Raven black with a newer black soft top and with gorgeous red bucket interior. Show quality engine compartment embellishing a loaded a correct C-code 289 cubic inch engine, \\xa0upgraded with fuel injection for more power and easier starts. \\xa0Nicely optioned with newer Vintage AC to keep cool and power disc brakes to control the power. This beautiful black pony is rolling on newer a newer set of Mustang styled wheels with double redline radials with that classic Mustang curb appeal.\\nPainted in correct A-code Raven\\nBlack\\nVery nice Mustang convertible body with great lines and metal structure\\nNewer black convertible top\\nNewer bumpers, trim and emblems\\nMustang styled wheels and double redline radials\\nVery nice newer red bucket seat interior\\nOriginally a triple black car with black interior\\nUnder dash AC unit\\nFloor shifter\\nNice looking dash and gauges\\nOriginal Mustang radio\\n289 V8 engine\\nAutomatic transmission\\nUpgraded fuel injection system\\nVintage air conditioning\\nPower disc brakes on the front\\nSolid clean and intact floors and frame\\nNewer dual exhaust\\nNewer gas tank'},\n",
       " {'title': '1968 Ford Mustang Candy Apple Red  5.0 HO, 5-Speed',\n",
       "  'make': 'Ford',\n",
       "  'model': 'Mustang',\n",
       "  'year': '1968',\n",
       "  'price': 59900,\n",
       "  'description': '\\nCandy Apple red Mustang convertible\\nNewer GT emblems\\nWhite C stripe\\nNewer white soft fop\\nNewer bumpers front and back\\nNewer grill surround and tail lights\\nNewer fog lights in the grill\\nBrand new windshield\\nMustang GT wheels\\nBF Goodrich white letter radials\\nVery nice red and black two tone interior\\nNewer seat covers, door panels and carpet\\nGreat looking dash and instrumentation\\nNew center console\\nGreat looking Mustang wood wheel\\nShow quality engine compartment\\nUpgraded with Mustang 5.0 liter HO, High Output V8\\nHO Fuel injection system\\nUpgraded 5-Speed transmission\\nPower disc brakes on the front\\n\\nVery solid and intact metal structure'},\n",
       " {'title': '1970 Ford Mustang 351 Cleveland Ram Air Auto PS PB Marti',\n",
       "  'make': 'Ford',\n",
       "  'model': 'Mustang',\n",
       "  'year': '1970',\n",
       "  'price': 69900,\n",
       "  'description': 'Fresh out of the body shop, 1970 Ford Mustang Mach1 that has been professionally painted in correct Z-code Grabber Green with correct black bucket seat interior. This real Mach1 is powered by the correct 351 Cleveland engine, topped off with a 4 barrel carburetor and upgraded with Ram Air induction. Nicely optioned with power steering and power front disc brakes and very nice black knit interior and console. What makes the Mach1 unique, \\xa0is the special trim and accents like the Ram Air hood scoop, Mach1 black striping , rear window slats, heavy Mach I rocker trim, blacked out tail panel, locking hood pins, chin spoiler, rear spoiler,\\xa0and dual exhaust with chrome oval tips. This investment grade Mach1 Mustang fastback \\xa0is validated by the vin and the Marti Report showing how it was equipped from the factory. The undercarriage is very solid clean and intact with great floors and frame. \\xa0This American Dream Machine is rolling on newer chrome Magnum wheels and BF Goodrich white letter radial tires and would make a great addition to any collection.\\nFresh out of the body shop with a 15k paint job\\nProfessional painted in factory correct Z code Grabber Green base coat clear coat paint\\nFunctional Ram Air hood with black hood stripe\\nCorrect Mach1 badging, emblems and rocker trim\\nRear spoiler and window louvers\\nNewer chrome Magnum rims\\nBF Goodrich white letter radials\\nVery nice black knit bucket seat interior\\nCenter console\\nCorrect T handle shifter\\nRefinished wood wheel\\nMach1 trim\\nCourtesy light group\\n351-4V V8 Cleveland engine casting D2AE-CA-2E25\\nHolley carb.\\nFunctional Ram Air induction\\nFMX automatic transmission C4\\nNew radiator\\nPower steering\\nPower front disc brakes\\nVery solid clean and original undercarriage\\nClean original factory metal from bumper to bumper\\nFlowmaster exhaust with chrome dual tips\\nExcellent original floors\\n9 inch rear with 3.55 gear'}]"
      ]
     },
     "execution_count": 44,
     "metadata": {},
     "output_type": "execute_result"
    }
   ],
   "source": [
    "deals"
   ]
  },
  {
   "cell_type": "code",
   "execution_count": 26,
   "metadata": {},
   "outputs": [
    {
     "name": "stdout",
     "output_type": "stream",
     "text": [
      "0:1932 Auburn 898-A Exquisite Black &Silver Boattail Speedster Red Int. Extensive Restoration\n",
      "1:1958 Buick Century Extensive Restore, 364 Auto PS PT\n",
      "2:1959 Cadillac Fleetwood Series 75 Limousine, 26603 Miles\n",
      "3:1960 Cadillac Fleetwood Extravgant Black Series 75 Pro-Tour Limousine Tan Napa Leather 390 Auto AC\n",
      "4:1953 Chevrolet 3100 Brandywine 5 Window Short Box Show Truck Black Int. 350 Auto PS PDB Chome\n",
      "5:1955 Chevrolet Bel Air Ruby Red Metallic 327, Auto PS\n",
      "6:1955 Chevrolet Bel Air 265 Auto, PS PB Frame-Off Restored\n",
      "7:1955 Chevrolet Bel Air 265 V8 Auto, Continental Kit\n",
      "8:1957 Chevrolet Bel Air Frame-off 283 Power Pack Auto\n",
      "9:1957 Chevrolet Bel Air Frame-Off 283 Auto PS Cont Kit\n",
      "10:1958 Chevrolet Biscayne 327/425hp  4-speed\n",
      "11:1971 Chevrolet Blazer 4WD Extensive Restoration\n",
      "12:1972 Chevrolet Blazer 4WD 350 4-Spd PS PB AC Plaid\n",
      "13:1967 Chevrolet Camaro Electric Blue 5.7L 700R4 AC PS PB\n",
      "14:1967 Chevrolet Camaro #s Matching 327 Auto PS PB AC\n",
      "15:1967 Chevrolet Camaro Pro-Tour Frame-Off AC Foose\n",
      "16:1967 Chevrolet Camaro SS options, 327 Auto PS PB\n",
      "17:1968 Chevrolet Camaro Black, White Stripe. Black Int, SS Options 396 Big Block 4-Speed PS PB\n",
      "18:1968 Chevrolet Camaro #s Match 327 Auto PS PB PT\n",
      "19:1968 Chevrolet Camaro SS396 Pro-Tour AC PS PB\n"
     ]
    }
   ],
   "source": [
    "for i, entry in enumerate(feed.entries[:20]):\n",
    "    print(f\"{i}:{entry.title}\")"
   ]
  },
  {
   "cell_type": "markdown",
   "metadata": {},
   "source": [
    "## Try ScrapedDeal class created from above functions"
   ]
  },
  {
   "cell_type": "code",
   "execution_count": 2,
   "metadata": {},
   "outputs": [
    {
     "name": "stderr",
     "output_type": "stream",
     "text": [
      "100%|██████████| 90/90 [00:00<00:00, 2154.49it/s]\n"
     ]
    }
   ],
   "source": [
    "scraped = ScrapedDeal.fetch()"
   ]
  },
  {
   "cell_type": "code",
   "execution_count": 3,
   "metadata": {},
   "outputs": [
    {
     "data": {
      "text/plain": [
       "<1967 Chevrolet Camaro Electric Blue 5.7L 700R4 AC PS PB>"
      ]
     },
     "execution_count": 3,
     "metadata": {},
     "output_type": "execute_result"
    }
   ],
   "source": [
    "scraped[0]"
   ]
  },
  {
   "cell_type": "markdown",
   "metadata": {},
   "source": [
    "## Test messaging agent"
   ]
  },
  {
   "cell_type": "code",
   "execution_count": 3,
   "metadata": {},
   "outputs": [],
   "source": [
    "from agents.messaging_agent import MessagingAgent\n",
    "\n",
    "agent = MessagingAgent()\n",
    "\n",
    "agent.push('BIG NEWS!!!')"
   ]
  },
  {
   "cell_type": "markdown",
   "metadata": {},
   "source": [
    "## Test planning agent"
   ]
  },
  {
   "cell_type": "code",
   "execution_count": 1,
   "metadata": {},
   "outputs": [],
   "source": [
    "import chromadb\n",
    "DB = 'vectorstore'\n",
    "client = chromadb.PersistentClient(path=DB)\n",
    "collection = client.get_or_create_collection('cars')\n"
   ]
  },
  {
   "cell_type": "code",
   "execution_count": 2,
   "metadata": {},
   "outputs": [],
   "source": [
    "# automatically reload changed modules\n",
    "%load_ext autoreload\n",
    "%autoreload 2\n",
    "\n",
    "from agents.planning_agent import PlanningAgent\n"
   ]
  },
  {
   "cell_type": "code",
   "execution_count": 3,
   "metadata": {},
   "outputs": [
    {
     "name": "stderr",
     "output_type": "stream",
     "text": [
      "100%|██████████| 90/90 [00:00<00:00, 3545.51it/s]\n"
     ]
    },
    {
     "data": {
      "text/plain": [
       "[Opportunity(deal=Deal(product_description='One of one. Award winning, rotisserie restored, Light Blue Metallic 1970 Dodge Charger R/T with very rare color combination EB3 paint and two tone B5 and B7 blue bucket seat interior and black vinyl top. \\xa0According to the Chrysler Registry Report, this rare Charger RT, is only one of one produced, with its rare options and color combination. \\xa0This incredible Mopar muscle car has benefited from an extensive rotisserie restoration, before going on to win both the Boca Ratan Concours d\\'elegance in 2017 for Best Muscle Car and the Lake Mirror Concours d\\'Elegance for Best Muscle car in 2018. This 1970 Charger RT is heavily optioned with a 440 c.i. Magnum engine, Pistol Grip 4-speed transmission, power brakes and A33 Track Pac Dana rear axle with 3.54 gears. This investment grade R/T Charger has had a no expense spared restoration, including the undercarriage and trunk, making it a potential show winner wherever it shows. This American Dream Machine Charger RT, is well documented in the Chrysler Registry and by the fender tag, as you would expect from a Mopar of this caliber. Rolling on correct, painted to match steel wheels with poverty caps and Polyglas F60-15 GT white letter tires for that investment grade muscle car appearance.\\nOne of one, documented Charger RT in the Chrysler Registry, with these options and rare color combination\\nExtensive rotisserie restored RT winning \"Best Muscle Car\" in two Concours d\\'Elegance shows\\nProfessionally painted from top to bottom in EB3 Light Blue Metallic paint with light blue tail stripe\\nCorrect R/T emblems, badges, hood and side scoops\\nFactory ordered Blue Bumble Bee tape stripe\\nBlack vinyl top\\nPainted to match steel wheel with poverty caps\\nGoodyear Polyglas white letter tire\\nRare two tone B5 and B7 Blue, bucket seat and console interior\\nOne of only 7% produced with this interior option\\nHurst Pistol Grip shifter\\nTic-Toc-Tach\\nCenter console with woodgrain applique\\nFactory AM radio updated with hidden FM and Bluetooth capabilities\\nRestored trunk painted in body color\\nTrunk mat, Goodyear spare and jack\\nShow quality engine compartment\\n440ci Magnum V8 engine\\n7 blade fan with factory correct 26in radiator\\nOne of only 15% produced with 4-speed manual transmission\\nPower brakes\\nRotisserie restored undercarriage\\nHeavy duty big block suspension\\nA33 Track Pak with 3.54 geared Dana 60 rear axle', price=119900.0, url='http://www.admcars.com/1970-dodge-charger-rt-440-4-spd,-concours-winner-twice-c-1654.htm'), estimate=231025.52214655222, discount=111125.52214655222),\n",
       " Opportunity(deal=Deal(product_description='Built to burn rubber, Daytona Yellow RS/SS 1969 Camaro convertible with a performance built 454 and a bad attitude and an extensive restoration. \\xa0 This is not a tired old 54 year old \\xa0RS/SS Camaro with 325hp. \\xa0This is a performance built Daytona Yellow American Street Beast that will sit you back in the seat with a serious 454 big block under the hood with performance heads, pushing out over 450 horsepower. Shifting is tight with a new Tremec 5-speed transmission, a 12-bolt posit-traction rear end to puts the rubber to the road and 4-wheel slotted power disc brakes to control the power. The new black bucket interior with console is pristine and shows very well. \\xa0 Rolling on new chrome Turbine styled US Mag wheels and new performance rated radials. This is a true American Dream Machine and would be a great\\nDaytona Yellow convertible show car\\nExtensive restoration\\nRS Hidden headlights\\nSS options, hood and and badging,\\nBlack SS hockey stripe\\nNew black convertible, power top\\nUS Mags Rambler turbine styled wheels\\nBlack factory bucket interior\\nNew black seat covers, door panels and carpet\\nCenter console with gauge package\\nModern Classic Sound AM/FM stereo\\nPerformance built \\xa0454ci engine with aluminum heads\\n10.25 compression\\nComp Cams hydraulic camshaft\\nHolly Sniper fuel injection\\nAluminum radiator\\nTremec TKX 5-speed transmission\\nNewer Vintage Air Conditioning\\nPower steering\\nPower 4-wheel disc brakes with drilled and slotted rotors\\nExcellent metal structure\\n12 bolt posit-traction rear end with 3.73 gears\\nTubular front control arms\\nSubframe connectors\\nNew Flowmaster dual exhaust\\nNew gas tank', price=89900.0, url='http://www.admcars.com/1969-chevrolet-camaro-454450hp-5-speed-ps-pb-ac-c-1512.htm'), estimate=117008.28291620538, discount=27108.282916205382),\n",
       " Opportunity(deal=Deal(product_description='Fresh out of the body shop. \\xa0Very correct and original 1967 Camaro, loaded with power options and professionally painted in code correct LL Tahoe Turquoise, new code correct, 760 black bucket seat interior. \\xa0This highly optioned American Dream Machine comes with its numbers matching 327 engine, automatic transmission, power steering, power brakes, and original factory AC that appears intact. This exceptional Camaro was previously owned by a doctor for many years and was very well cared for and has excellent original factory metal structure. \\xa0This classic Camaro is has SS stripes and badging and is rolling on a Rally rims, new center caps and trim rings and a new set of BFG white letter radials.\\nOrignal code- LL Tahoe Turquoise 1967 Camaro\\nAll original intact factory metal structure with great panel fitment\\nProfessionally painted and color correct\\nWhite SS nose stripe and front and rear spoilers\\nNew bumpers trim, and \\xa0emblems\\nNewly refurbished Rally rims\\nNew BF Goodrich white letter radials\\nNew Black Bucket Interior\\nNew carpet and door panels\\nImpressive original dash in great shape\\nShow quality engine compartment\\nOriginal numbers matching 327 V8 engine ME suffix code indicating 210 horsepower with Powerglide automatic transmission\\nOriginal air cleaner and new chrome valve covers\\nAutomatic transmission\\nPower steering\\nPower brakes\\nRare factory AC\\nExtremely original, clean, solid, and intact\\n10 bolt with 3.08 gears casting 3894859', price=49900.0, url='http://www.admcars.com/1967-chevrolet-camaro-#s-matching-327-auto-ps-pb-ac-c-1441.htm'), estimate=75748.37683690168, discount=25848.376836901676),\n",
       " Opportunity(deal=Deal(product_description='Striking Electric Blue, 1967 Rally Sport, Pro-Tour Chevrolet Camaro Convertible with RS hidden headlights and an extensive list of custom modifications, making it a one of a kind muscle machine that was built for show and go. Under the hood is a show stopping, chromed out, engine compartment, showcasing a \\xa0fuel injected 5.7L LT1 V8 engine, accompanied by a chrome serpentine belt system, nicely optioned with newer chrome AC, chrome power steering, \\xa04-wheel power disc brakes and with a 4-speed 700R4 automatic overdrive transmission to kick this radical Camaro into high gear. \\xa0Fully custom two tone gray bucket seat interior with dark gray carbon fiber pattern seat inserts and lots of upgrades; like power windows, Vintage air conditioning, brand new black console with new working Camaro gauges, tach, tilt steering and leather wrapped steering wheel, topped off with a newer\\xa0black canvas convertible top that fits snug. This Electric Blue Camaro sounds even better than it looks, with an Alpine High-Fi, audio system, Alpine head unit, eight custom Alpine door and back speakers, and serious sound in the trunk with an Alpine sub woofer and JL Audio amplifier. This American street machine gorgeous body line and with 1968 doors with removed wing windows for a more sleek look, \\xa0shaved door handles, key locks and fuel filler cap and a killer lowered stance rolling on Riddler 17 inch chrome and newer Continental performance radials and is ready to put the rubber to the road.\\nElectric Blue custom built Camaro with RS and performance upgrades\\nGorgeous Camaro body with high-end custom paint job\\nNewer black canvas convertible top\\nShaved door handles and fuel filler cap\\nCustom tail lights for that clean look\\n1968 doors with removed wing windows for better lines\\nCowl induction hood with subtle custom ghost flames\\nRally Sport electric hidden headlights\\nNewer bumpers front and rear.\\nFront and rear spoiler\\nRiddler 17 inch chrome wheels\\nNewer Continental performance rated radials\\nCustom gray and Carbon fiber bucket seat interior\\nNew Camaro center console with correct RS gauges\\nPower windows\\nTilt steering column\\nBillet steering wheel\\nFactory tach\\nHigh- end Alpine Audio sound system,\\nEight separate speakers in interior area\\nJL Audio amplifier and sub system in trunk\\nShow stopping engine compartment painted Electric Blue\\nChromed out, Fuel injected 5.7L LT1 V8 engine Casting 10125327 1992\\nCustom chrome serpentine pulley system\\nChrome Vintage Air Conditioning\\nChrome Power steering pump\\n4 Wheel power disc brakes,\\nBaer slotted disc brakes on the front\\n700R4 Automatic overdrive transmission\\nNewer ceramic coated headers\\nAluminum radiator\\nDual electric fans\\nSmoothed painted firewall\\nChrome alternator\\nChrome hood hinges and hood latch\\n12-bolt posi-traction rear end with a 3.55 gear\\nTubular A-arms\\nHeavy duty sway bars front and rear\\nSolid clean and intact\\nNewer custom stainless gas tank', price=79900.0, url='http://www.admcars.com/1967-chevrolet-camaro-electric-blue-5.7l-700r4-ac-ps-pb-c-1645.htm'), estimate=105447.46573907272, discount=25547.465739072722),\n",
       " Opportunity(deal=Deal(product_description='Fresh out of the Body shop. Gorgeous Cobalt Blue Metallic 1969 Camaro with white side stripes and a fresh built to burn rubber, 496 cubic inch, aluminum head, big block engine rated at over 600 horsepower under the cowl hood, launched by a rare Muncie M-22 Rock Crusher 4-speed and nicely optioned with lots of chrome and a serpentine belt system, power steering and power disc brakes. \\xa0This incredible car is very well preserved and was owned by the last owner in Texas for the last 32 years and he believed this Camaro to be a Norwood pre-code car from the factory but is is much stronger now. The car has the original, code 715 medium blue bucket seat interior and console in great shape with very nice original dash and gauges. This bright blue street beast is rolling on new US Mags Chrome Ramblers and performance rated radials to put the rubber to the road.\\nFresh out of the body shop\\nProfessionally painted in electric Cobalt Blue Metallic\\nOriginal 53-code Glacier Blue car\\nStructurally beautiful Camaro body with excellent panel fitment\\nJeweled in lots of new chrome and stainless\\nBright white hockey stripe on the side and 496 emblems\\nRolling on US Mags Chrome Rambler wheels\\nBrand new performance radials\\nNice 715-code Medium Blue bucket console interior\\nVery nice well preserved dash\\nGreat looking \\xa0original gauges in great condition\\nCenters console with \\xa0Muncie M-22 Rock Crusher 4-speed\\nProfessionally built 496 cubic inch big block engine rated at 600 plus horsepower. Less than 1k miles since built\\nRare Muncie M-22 Rock Crusher 4-speed rated at 800 foot pounds of torque\\nAluminum Heads\\nSerpentine Belt system\\nTuff-Stuff Chrome power disc brakes system\\nChrome power steering\\nChrome alternator\\nBe Cool aluminum radiator\\nNew user and lower tubular A-arms\\nNew QA1 coil over shocks\\nNew polyurethane bushings\\n10-bolt posi rear end with 4.11 rear gears\\nNew heavy duty torsion bars to support the big block engine and the power\\nFlaming River ignition and turn off\\nExcellent metal structure\\nNew ceramic coated headers\\nHeavy duty Flowmaster exhaust', price=72900.0, url='http://www.admcars.com/1969-chevrolet-camaro-496600+hp-4-speed-ps-pb-c-1488.htm'), estimate=94706.49517500446, discount=21806.495175004457)]"
      ]
     },
     "execution_count": 3,
     "metadata": {},
     "output_type": "execute_result"
    }
   ],
   "source": [
    "planner = PlanningAgent(collection)\n",
    "planner.plan()"
   ]
  },
  {
   "cell_type": "code",
   "execution_count": 7,
   "metadata": {},
   "outputs": [
    {
     "data": {
      "text/plain": [
       "<agents.planning_agent.PlanningAgent at 0x2370f8af550>"
      ]
     },
     "execution_count": 7,
     "metadata": {},
     "output_type": "execute_result"
    }
   ],
   "source": [
    "planner"
   ]
  },
  {
   "cell_type": "code",
   "execution_count": null,
   "metadata": {},
   "outputs": [],
   "source": []
  }
 ],
 "metadata": {
  "kernelspec": {
   "display_name": "llms",
   "language": "python",
   "name": "python3"
  },
  "language_info": {
   "codemirror_mode": {
    "name": "ipython",
    "version": 3
   },
   "file_extension": ".py",
   "mimetype": "text/x-python",
   "name": "python",
   "nbconvert_exporter": "python",
   "pygments_lexer": "ipython3",
   "version": "3.11.11"
  }
 },
 "nbformat": 4,
 "nbformat_minor": 2
}
